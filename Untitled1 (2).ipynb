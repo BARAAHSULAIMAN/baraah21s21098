{
  "nbformat": 4,
  "nbformat_minor": 0,
  "metadata": {
    "colab": {
      "provenance": []
    },
    "kernelspec": {
      "name": "python3",
      "display_name": "Python 3"
    },
    "language_info": {
      "name": "python"
    }
  },
  "cells": [
    {
      "cell_type": "code",
      "source": [
        "# Sample CNN model codeURL"
      ],
      "metadata": {
        "id": "sqFhi5SC0U0g"
      },
      "execution_count": 19,
      "outputs": []
    },
    {
      "cell_type": "code",
      "source": [
        "#My dataset is available in googledrive; so I am accessing my drive from colab\n",
        "from google.colab import drive\n",
        "drive.mount('/content/drive', force_remount=True)\n",
        "#Once this is executed, you will see your drive appearing on the left hand side"
      ],
      "metadata": {
        "colab": {
          "base_uri": "https://localhost:8080/"
        },
        "id": "zQycCzhyiS5f",
        "outputId": "a3f6e62f-a8f8-4b80-ef86-2ba96481597f"
      },
      "execution_count": 3,
      "outputs": [
        {
          "output_type": "stream",
          "name": "stdout",
          "text": [
            "Mounted at /content/drive\n"
          ]
        }
      ]
    },
    {
      "cell_type": "code",
      "source": [
        "# Define paths to the dataset\n",
        "train_dir = '/content/drive/MyDrive/train'  # Update with your actual path\n",
        "test_dir = '/content/drive/MyDrive/test'    # Update with your actual path"
      ],
      "metadata": {
        "id": "5pf4g6RIipdd"
      },
      "execution_count": 4,
      "outputs": []
    },
    {
      "cell_type": "code",
      "source": [
        "import os\n",
        "print(len(os.listdir('/content/drive/MyDrive/train/not_pizza')))\n",
        "print(len(os.listdir('/content/drive/MyDrive/train/pizza')))\n",
        "print(len(os.listdir('/content/drive/MyDrive/test/not_pizza')))\n",
        "print(len(os.listdir('/content/drive/MyDrive/test/pizza')))"
      ],
      "metadata": {
        "colab": {
          "base_uri": "https://localhost:8080/"
        },
        "id": "lImlZR4bi1gJ",
        "outputId": "75e4103f-8130-486c-b0aa-8c11142a6d9f"
      },
      "execution_count": 5,
      "outputs": [
        {
          "output_type": "stream",
          "name": "stdout",
          "text": [
            "800\n",
            "800\n",
            "183\n",
            "183\n"
          ]
        }
      ]
    },
    {
      "cell_type": "code",
      "source": [
        "import tensorflow as tf\n",
        "from tensorflow.keras.preprocessing.image import ImageDataGenerator\n",
        "\n",
        "# Create ImageDataGenerator for training set\n",
        "train_datagen = ImageDataGenerator(\n",
        "    rescale=1./255,\n",
        "    validation_split=0.2  # Split 20% of the images for validation\n",
        ")\n",
        "\n",
        "# Load and prepare training data\n",
        "train_data = train_datagen.flow_from_directory(\n",
        "    train_dir,\n",
        "    target_size=(256,256),\n",
        "    batch_size=32,\n",
        "    class_mode='binary',  # 'binary' for binary classification (pizza vs. not_pizza)\n",
        "    subset='training'  # Specify 'training' for the training set\n",
        ")\n",
        "\n",
        "# Create ImageDataGenerator for validation set\n",
        "validation_datagen = ImageDataGenerator(\n",
        "    rescale=1./255,\n",
        "    validation_split=0.2  # Note: Using the same validation split as in the training set\n",
        ")\n",
        "\n",
        "# Load and prepare validation data\n",
        "validation_data = validation_datagen.flow_from_directory(\n",
        "    train_dir,\n",
        "    target_size=(256,256),\n",
        "    batch_size=32,\n",
        "    class_mode='binary',\n",
        "    subset='validation'  # Specify 'validation' for the validation set\n",
        ")"
      ],
      "metadata": {
        "colab": {
          "base_uri": "https://localhost:8080/"
        },
        "id": "gsbNieDWjKXb",
        "outputId": "0d4cf4cd-eef3-4fb9-d094-3e2d793e8c85"
      },
      "execution_count": 6,
      "outputs": [
        {
          "output_type": "stream",
          "name": "stdout",
          "text": [
            "Found 1280 images belonging to 2 classes.\n",
            "Found 320 images belonging to 2 classes.\n"
          ]
        }
      ]
    },
    {
      "cell_type": "code",
      "source": [
        "from tensorflow import keras\n",
        "from keras import Sequential\n",
        "from keras.layers import Dense,Conv2D,MaxPooling2D,Flatten,BatchNormalization,UpSampling2D, Dropout"
      ],
      "metadata": {
        "id": "mABzfkBLjbLv"
      },
      "execution_count": 7,
      "outputs": []
    },
    {
      "cell_type": "code",
      "source": [
        "# create CNN model\n",
        "\n",
        "model = Sequential()\n",
        "\n",
        "model.add(Conv2D(32,kernel_size=(3,3),padding='valid',activation='relu',input_shape=(256,256,3)))  # 32 filters\n",
        "#model.add(BatchNormalization())  # added to reduce overfitting\n",
        "model.add(MaxPooling2D(pool_size=(2,2),strides=2,padding='valid'))\n",
        "\n",
        "model.add(Conv2D(64,kernel_size=(3,3),padding='valid',activation='relu'))\n",
        "#model.add(BatchNormalization())  # added to reduce overfitting\n",
        "model.add(MaxPooling2D(pool_size=(2,2),strides=2,padding='valid'))\n",
        "\n",
        "model.add(Conv2D(128,kernel_size=(3,3),padding='valid',activation='relu'))\n",
        "#model.add(BatchNormalization())  # added to reduce overfitting\n",
        "model.add(MaxPooling2D(pool_size=(2,2),strides=2,padding='valid'))\n",
        "\n",
        "model.add(Flatten())\n",
        "\n",
        "model.add(Dense(128,activation='relu')) #feature reduction\n",
        "#model.add(Dropout(0.1))  # added to reduce overfitting\n",
        "model.add(Dense(64,activation='relu'))\n",
        "#model.add(Dropout(0.1))  # added to reduce overfitting\n",
        "model.add(Dense(1,activation='sigmoid'))  #output layer"
      ],
      "metadata": {
        "id": "V7AgYVRfjgXT"
      },
      "execution_count": 9,
      "outputs": []
    },
    {
      "cell_type": "code",
      "source": [
        "from keras.optimizers import Adam\n",
        "model.compile(optimizer=Adam(learning_rate=0.001),loss='binary_crossentropy',metrics=['accuracy']) #binary_crossentropy - binary classification"
      ],
      "metadata": {
        "id": "-fCm8k9Ij4mm"
      },
      "execution_count": 10,
      "outputs": []
    },
    {
      "cell_type": "code",
      "source": [
        ""
      ],
      "metadata": {
        "id": "eKnTwS3DkdZ3"
      },
      "execution_count": null,
      "outputs": []
    },
    {
      "cell_type": "code",
      "source": [
        "history = model.fit(train_data, epochs=30, validation_data=validation_data)"
      ],
      "metadata": {
        "colab": {
          "base_uri": "https://localhost:8080/"
        },
        "id": "XpkntyS0j6U8",
        "outputId": "2d72322b-3998-4597-b083-ca567ace7e84"
      },
      "execution_count": 12,
      "outputs": [
        {
          "output_type": "stream",
          "name": "stdout",
          "text": [
            "Epoch 1/30\n",
            "40/40 [==============================] - 539s 13s/step - loss: 0.7703 - accuracy: 0.5531 - val_loss: 0.6306 - val_accuracy: 0.6500\n",
            "Epoch 2/30\n",
            "40/40 [==============================] - 217s 5s/step - loss: 0.5976 - accuracy: 0.6836 - val_loss: 0.5247 - val_accuracy: 0.7500\n",
            "Epoch 3/30\n",
            "40/40 [==============================] - 205s 5s/step - loss: 0.5574 - accuracy: 0.7188 - val_loss: 0.6526 - val_accuracy: 0.5562\n",
            "Epoch 4/30\n",
            "40/40 [==============================] - 207s 5s/step - loss: 0.5361 - accuracy: 0.7477 - val_loss: 0.7333 - val_accuracy: 0.5844\n",
            "Epoch 5/30\n",
            "40/40 [==============================] - 207s 5s/step - loss: 0.5203 - accuracy: 0.7500 - val_loss: 0.5710 - val_accuracy: 0.7406\n",
            "Epoch 6/30\n",
            "40/40 [==============================] - 203s 5s/step - loss: 0.3893 - accuracy: 0.8250 - val_loss: 0.7302 - val_accuracy: 0.6469\n",
            "Epoch 7/30\n",
            "40/40 [==============================] - 205s 5s/step - loss: 0.3094 - accuracy: 0.8742 - val_loss: 0.7361 - val_accuracy: 0.7000\n",
            "Epoch 8/30\n",
            "40/40 [==============================] - 201s 5s/step - loss: 0.2090 - accuracy: 0.9070 - val_loss: 0.9359 - val_accuracy: 0.6812\n",
            "Epoch 9/30\n",
            "40/40 [==============================] - 204s 5s/step - loss: 0.1330 - accuracy: 0.9484 - val_loss: 1.3234 - val_accuracy: 0.6844\n",
            "Epoch 10/30\n",
            "40/40 [==============================] - 217s 5s/step - loss: 0.0694 - accuracy: 0.9805 - val_loss: 1.2738 - val_accuracy: 0.6844\n",
            "Epoch 11/30\n",
            "40/40 [==============================] - 202s 5s/step - loss: 0.0412 - accuracy: 0.9859 - val_loss: 1.4392 - val_accuracy: 0.6969\n",
            "Epoch 12/30\n",
            "40/40 [==============================] - 204s 5s/step - loss: 0.0211 - accuracy: 0.9953 - val_loss: 1.8788 - val_accuracy: 0.6906\n",
            "Epoch 13/30\n",
            "40/40 [==============================] - 211s 5s/step - loss: 0.0195 - accuracy: 0.9930 - val_loss: 2.3527 - val_accuracy: 0.6687\n",
            "Epoch 14/30\n",
            "40/40 [==============================] - 212s 5s/step - loss: 0.0140 - accuracy: 0.9961 - val_loss: 2.2375 - val_accuracy: 0.6875\n",
            "Epoch 15/30\n",
            "40/40 [==============================] - 206s 5s/step - loss: 0.0024 - accuracy: 1.0000 - val_loss: 2.6281 - val_accuracy: 0.6938\n",
            "Epoch 16/30\n",
            "40/40 [==============================] - 218s 5s/step - loss: 7.2136e-04 - accuracy: 1.0000 - val_loss: 2.6519 - val_accuracy: 0.7031\n",
            "Epoch 17/30\n",
            "40/40 [==============================] - 204s 5s/step - loss: 3.6488e-04 - accuracy: 1.0000 - val_loss: 2.7536 - val_accuracy: 0.7031\n",
            "Epoch 18/30\n",
            "40/40 [==============================] - 205s 5s/step - loss: 2.4283e-04 - accuracy: 1.0000 - val_loss: 2.8303 - val_accuracy: 0.7063\n",
            "Epoch 19/30\n",
            "40/40 [==============================] - 216s 5s/step - loss: 1.9302e-04 - accuracy: 1.0000 - val_loss: 2.8873 - val_accuracy: 0.7125\n",
            "Epoch 20/30\n",
            "40/40 [==============================] - 211s 5s/step - loss: 1.6521e-04 - accuracy: 1.0000 - val_loss: 2.9406 - val_accuracy: 0.7063\n",
            "Epoch 21/30\n",
            "40/40 [==============================] - 215s 5s/step - loss: 1.3807e-04 - accuracy: 1.0000 - val_loss: 2.9886 - val_accuracy: 0.7094\n",
            "Epoch 22/30\n",
            "40/40 [==============================] - 214s 5s/step - loss: 1.1837e-04 - accuracy: 1.0000 - val_loss: 3.0310 - val_accuracy: 0.7063\n",
            "Epoch 23/30\n",
            "40/40 [==============================] - 209s 5s/step - loss: 1.0185e-04 - accuracy: 1.0000 - val_loss: 3.0711 - val_accuracy: 0.7063\n",
            "Epoch 24/30\n",
            "40/40 [==============================] - 218s 5s/step - loss: 8.9647e-05 - accuracy: 1.0000 - val_loss: 3.1117 - val_accuracy: 0.7000\n",
            "Epoch 25/30\n",
            "40/40 [==============================] - 208s 5s/step - loss: 7.9604e-05 - accuracy: 1.0000 - val_loss: 3.1418 - val_accuracy: 0.7031\n",
            "Epoch 26/30\n",
            "40/40 [==============================] - 214s 5s/step - loss: 7.1037e-05 - accuracy: 1.0000 - val_loss: 3.1775 - val_accuracy: 0.6969\n",
            "Epoch 27/30\n",
            "40/40 [==============================] - 219s 6s/step - loss: 6.3671e-05 - accuracy: 1.0000 - val_loss: 3.2084 - val_accuracy: 0.6969\n",
            "Epoch 28/30\n",
            "40/40 [==============================] - 210s 5s/step - loss: 5.8321e-05 - accuracy: 1.0000 - val_loss: 3.2384 - val_accuracy: 0.6969\n",
            "Epoch 29/30\n",
            "40/40 [==============================] - 215s 5s/step - loss: 5.1734e-05 - accuracy: 1.0000 - val_loss: 3.2597 - val_accuracy: 0.7031\n",
            "Epoch 30/30\n",
            "40/40 [==============================] - 214s 5s/step - loss: 4.7739e-05 - accuracy: 1.0000 - val_loss: 3.2842 - val_accuracy: 0.7000\n"
          ]
        }
      ]
    },
    {
      "cell_type": "code",
      "source": [
        "import matplotlib.pyplot as plt\n",
        "\n",
        "plt.plot(history.history['accuracy'],color='red',label='train')\n",
        "plt.plot(history.history['val_accuracy'],color='blue',label='validation')\n",
        "plt.legend()\n",
        "plt.show()"
      ],
      "metadata": {
        "colab": {
          "base_uri": "https://localhost:8080/",
          "height": 430
        },
        "id": "3vXjD5i9Wbnw",
        "outputId": "3b9db1cc-a0ea-4ae6-8da1-5a037c9e4823"
      },
      "execution_count": 14,
      "outputs": [
        {
          "output_type": "display_data",
          "data": {
            "text/plain": [
              "<Figure size 640x480 with 1 Axes>"
            ],
            "image/png": "[encoded data removed]"
          },
          "metadata": {}
        }
      ]
    },
    {
      "cell_type": "code",
      "source": [
        "plt.plot(history.history['loss'],color='red',label='train')\n",
        "plt.plot(history.history['val_loss'],color='blue',label='validation')\n",
        "plt.legend()\n",
        "plt.show()"
      ],
      "metadata": {
        "colab": {
          "base_uri": "https://localhost:8080/",
          "height": 430
        },
        "id": "j3paxf8rXTfI",
        "outputId": "690f7b32-e0e7-496c-d1b9-4432775d26a0"
      },
      "execution_count": 15,
      "outputs": [
        {
          "output_type": "display_data",
          "data": {
            "text/plain": [
              "<Figure size 640x480 with 1 Axes>"
            ],
            "image/png": "[encoded data removed]"
          },
          "metadata": {}
        }
      ]
    },
    {
      "cell_type": "code",
      "source": [
        "test_datagen = ImageDataGenerator(rescale=1./255)\n",
        "test_data = test_datagen.flow_from_directory(\n",
        "    test_dir,\n",
        "    target_size=(256,256),\n",
        "    batch_size=32,\n",
        "    class_mode='binary'\n",
        ")"
      ],
      "metadata": {
        "colab": {
          "base_uri": "https://localhost:8080/"
        },
        "id": "lbhR7muXXch9",
        "outputId": "c0c70a87-c94d-453c-abb3-bd927cefb6bf"
      },
      "execution_count": 16,
      "outputs": [
        {
          "output_type": "stream",
          "name": "stdout",
          "text": [
            "Found 366 images belonging to 2 classes.\n"
          ]
        }
      ]
    },
    {
      "cell_type": "code",
      "source": [
        "#predict the test data\n",
        "predictions = model.predict(test_data)\n",
        "print(predictions)"
      ],
      "metadata": {
        "colab": {
          "base_uri": "https://localhost:8080/"
        },
        "id": "NZ4paq3BXrpH",
        "outputId": "3ea13c98-c03f-4ce6-946a-379fd998b8bb"
      },
      "execution_count": 17,
      "outputs": [
        {
          "output_type": "stream",
          "name": "stdout",
          "text": [
            "12/12 [==============================] - 58s 5s/step\n",
            "[[1.21099660e-07]\n",
            " [2.41718451e-10]\n",
            " [2.26711761e-02]\n",
            " [9.99999106e-01]\n",
            " [9.98161912e-01]\n",
            " [9.91311908e-01]\n",
            " [2.49807667e-02]\n",
            " [1.27332541e-03]\n",
            " [9.76508763e-03]\n",
            " [2.12040264e-02]\n",
            " [5.82371838e-02]\n",
            " [9.98130381e-01]\n",
            " [6.21767163e-01]\n",
            " [9.99999583e-01]\n",
            " [9.99992669e-01]\n",
            " [1.00000000e+00]\n",
            " [9.99997675e-01]\n",
            " [8.72574572e-04]\n",
            " [9.90767717e-01]\n",
            " [2.08449483e-01]\n",
            " [1.43111811e-05]\n",
            " [9.86230433e-01]\n",
            " [1.73738170e-02]\n",
            " [9.96523619e-01]\n",
            " [1.26796776e-11]\n",
            " [9.99983728e-01]\n",
            " [5.57105437e-08]\n",
            " [1.00000000e+00]\n",
            " [9.99990284e-01]\n",
            " [1.80409606e-05]\n",
            " [9.13227558e-01]\n",
            " [9.89778459e-01]\n",
            " [5.28835891e-08]\n",
            " [9.03598189e-01]\n",
            " [7.10391849e-02]\n",
            " [9.99730706e-01]\n",
            " [4.89349550e-05]\n",
            " [1.07722685e-12]\n",
            " [1.00000000e+00]\n",
            " [9.99989450e-01]\n",
            " [1.60085014e-03]\n",
            " [2.59040863e-13]\n",
            " [8.26692998e-01]\n",
            " [4.70334154e-11]\n",
            " [1.00000000e+00]\n",
            " [3.17518740e-08]\n",
            " [9.99967575e-01]\n",
            " [8.53995618e-04]\n",
            " [1.76920950e-01]\n",
            " [9.99999046e-01]\n",
            " [9.97463584e-01]\n",
            " [9.89537001e-01]\n",
            " [9.58549500e-01]\n",
            " [1.00000000e+00]\n",
            " [3.68882120e-02]\n",
            " [1.01403697e-04]\n",
            " [9.95035887e-01]\n",
            " [9.99998808e-01]\n",
            " [8.61581385e-01]\n",
            " [7.55808473e-01]\n",
            " [7.90592367e-06]\n",
            " [9.14842248e-01]\n",
            " [1.00000000e+00]\n",
            " [4.07596538e-03]\n",
            " [9.96602595e-01]\n",
            " [4.43437025e-02]\n",
            " [2.83776283e-01]\n",
            " [8.44049156e-01]\n",
            " [9.99672174e-01]\n",
            " [1.00000000e+00]\n",
            " [9.99181628e-01]\n",
            " [1.61600312e-07]\n",
            " [2.34117076e-01]\n",
            " [9.99763668e-01]\n",
            " [1.76730362e-06]\n",
            " [1.00000000e+00]\n",
            " [6.60417462e-03]\n",
            " [1.00000000e+00]\n",
            " [3.61052599e-07]\n",
            " [9.99999285e-01]\n",
            " [5.41702256e-08]\n",
            " [1.00000000e+00]\n",
            " [9.26649034e-01]\n",
            " [9.99993622e-01]\n",
            " [9.99938965e-01]\n",
            " [1.00000000e+00]\n",
            " [3.11093237e-02]\n",
            " [3.34313343e-04]\n",
            " [1.00000000e+00]\n",
            " [1.08791643e-03]\n",
            " [1.73485446e-07]\n",
            " [9.99934435e-01]\n",
            " [1.30691295e-02]\n",
            " [3.52618867e-03]\n",
            " [4.48521753e-09]\n",
            " [1.49491424e-08]\n",
            " [8.79408002e-01]\n",
            " [2.98425759e-12]\n",
            " [1.00000000e+00]\n",
            " [2.14905613e-05]\n",
            " [5.61999669e-03]\n",
            " [2.19473001e-02]\n",
            " [1.00000000e+00]\n",
            " [9.98394787e-01]\n",
            " [6.28968358e-01]\n",
            " [9.93914545e-01]\n",
            " [9.99999940e-01]\n",
            " [9.98355687e-01]\n",
            " [9.99984205e-01]\n",
            " [1.60599143e-08]\n",
            " [1.00000000e+00]\n",
            " [9.23782647e-01]\n",
            " [1.00000000e+00]\n",
            " [2.64258371e-09]\n",
            " [9.99997854e-01]\n",
            " [9.99997914e-01]\n",
            " [9.99999642e-01]\n",
            " [9.99858141e-01]\n",
            " [2.02232475e-09]\n",
            " [9.99639571e-01]\n",
            " [9.99958754e-01]\n",
            " [9.99976277e-01]\n",
            " [5.93322694e-01]\n",
            " [1.13943531e-06]\n",
            " [1.32905051e-01]\n",
            " [2.08657999e-02]\n",
            " [8.64821434e-01]\n",
            " [1.00000000e+00]\n",
            " [1.88701534e-07]\n",
            " [9.99977767e-01]\n",
            " [9.90406334e-01]\n",
            " [4.01455793e-04]\n",
            " [9.99789059e-01]\n",
            " [8.85242403e-01]\n",
            " [8.12840653e-07]\n",
            " [9.98648524e-01]\n",
            " [9.99972641e-01]\n",
            " [2.01741923e-02]\n",
            " [2.30068551e-07]\n",
            " [7.49677094e-03]\n",
            " [1.05222732e-07]\n",
            " [8.01625431e-01]\n",
            " [9.96677697e-01]\n",
            " [1.00000000e+00]\n",
            " [9.98416483e-01]\n",
            " [1.01778130e-09]\n",
            " [9.99988258e-01]\n",
            " [9.99999821e-01]\n",
            " [9.99997556e-01]\n",
            " [9.99999821e-01]\n",
            " [9.99996841e-01]\n",
            " [5.29072359e-02]\n",
            " [8.41767434e-10]\n",
            " [1.00000000e+00]\n",
            " [1.35758810e-03]\n",
            " [1.00000000e+00]\n",
            " [1.00000000e+00]\n",
            " [9.86127649e-04]\n",
            " [9.92770612e-01]\n",
            " [9.99935627e-01]\n",
            " [6.10391859e-12]\n",
            " [9.48797524e-01]\n",
            " [9.99997854e-01]\n",
            " [5.09218611e-02]\n",
            " [9.10201634e-05]\n",
            " [9.96837318e-01]\n",
            " [7.21364141e-01]\n",
            " [2.40128861e-06]\n",
            " [1.11202884e-03]\n",
            " [7.91933780e-05]\n",
            " [6.98325584e-06]\n",
            " [3.01073849e-01]\n",
            " [4.14564216e-12]\n",
            " [4.36570389e-07]\n",
            " [9.99966025e-01]\n",
            " [9.99021769e-01]\n",
            " [9.99997199e-01]\n",
            " [9.99999881e-01]\n",
            " [2.38315057e-04]\n",
            " [9.99136686e-01]\n",
            " [9.98863459e-01]\n",
            " [9.78782713e-01]\n",
            " [1.45437151e-09]\n",
            " [1.00000000e+00]\n",
            " [4.18178141e-01]\n",
            " [2.32754508e-04]\n",
            " [9.99991059e-01]\n",
            " [1.00000000e+00]\n",
            " [9.99999881e-01]\n",
            " [2.79132412e-11]\n",
            " [3.61049082e-04]\n",
            " [1.28392143e-13]\n",
            " [2.89820832e-07]\n",
            " [1.32868522e-10]\n",
            " [6.50913239e-01]\n",
            " [1.00000000e+00]\n",
            " [1.00000000e+00]\n",
            " [1.53462534e-10]\n",
            " [4.09189224e-01]\n",
            " [3.80894798e-03]\n",
            " [1.00734845e-01]\n",
            " [7.82449078e-03]\n",
            " [1.03965025e-09]\n",
            " [7.85597384e-01]\n",
            " [7.20930517e-01]\n",
            " [9.99998569e-01]\n",
            " [1.03309594e-06]\n",
            " [9.99992013e-01]\n",
            " [1.70053784e-08]\n",
            " [1.42761751e-03]\n",
            " [9.99999940e-01]\n",
            " [7.59211600e-01]\n",
            " [5.99394552e-03]\n",
            " [9.53221619e-01]\n",
            " [9.99599576e-01]\n",
            " [9.99622166e-01]\n",
            " [1.74497452e-03]\n",
            " [1.00000000e+00]\n",
            " [3.92045962e-07]\n",
            " [1.00000000e+00]\n",
            " [1.00000000e+00]\n",
            " [8.68044674e-01]\n",
            " [1.86627544e-02]\n",
            " [9.99999523e-01]\n",
            " [6.06117817e-03]\n",
            " [1.00000000e+00]\n",
            " [9.99646604e-01]\n",
            " [5.31996830e-14]\n",
            " [9.98374522e-01]\n",
            " [1.99790783e-02]\n",
            " [7.77755940e-06]\n",
            " [1.00000000e+00]\n",
            " [1.66502054e-04]\n",
            " [9.99999940e-01]\n",
            " [1.96035206e-08]\n",
            " [1.76124916e-14]\n",
            " [3.75375864e-15]\n",
            " [1.00000000e+00]\n",
            " [8.39140881e-08]\n",
            " [3.37203710e-05]\n",
            " [1.00000000e+00]\n",
            " [1.07091635e-01]\n",
            " [2.23048553e-01]\n",
            " [7.46684492e-09]\n",
            " [6.77566171e-01]\n",
            " [9.99999881e-01]\n",
            " [8.89628791e-06]\n",
            " [1.01851197e-06]\n",
            " [5.90497453e-04]\n",
            " [6.23340569e-02]\n",
            " [2.43845708e-14]\n",
            " [1.26019835e-01]\n",
            " [8.55853677e-01]\n",
            " [9.99998510e-01]\n",
            " [9.24048603e-01]\n",
            " [1.00000000e+00]\n",
            " [9.82657492e-01]\n",
            " [6.71070302e-05]\n",
            " [9.99999702e-01]\n",
            " [9.71666455e-01]\n",
            " [1.00000000e+00]\n",
            " [1.30288492e-04]\n",
            " [9.99267817e-01]\n",
            " [5.08599811e-08]\n",
            " [9.55080264e-04]\n",
            " [2.58866610e-04]\n",
            " [9.99999464e-01]\n",
            " [5.69308177e-05]\n",
            " [9.18475926e-05]\n",
            " [1.07797969e-05]\n",
            " [8.92181873e-01]\n",
            " [1.00000000e+00]\n",
            " [2.23291622e-07]\n",
            " [2.90006965e-01]\n",
            " [9.99559522e-01]\n",
            " [2.90155467e-02]\n",
            " [9.97936845e-01]\n",
            " [4.35933645e-09]\n",
            " [5.37639439e-01]\n",
            " [9.68245327e-01]\n",
            " [1.00000000e+00]\n",
            " [3.87853086e-01]\n",
            " [1.66388403e-04]\n",
            " [9.27110374e-01]\n",
            " [2.15370726e-08]\n",
            " [4.35105991e-03]\n",
            " [9.99948978e-01]\n",
            " [1.00000000e+00]\n",
            " [2.68131708e-13]\n",
            " [5.79905152e-11]\n",
            " [9.60784091e-05]\n",
            " [9.99992609e-01]\n",
            " [9.98948097e-01]\n",
            " [1.38429612e-01]\n",
            " [9.99994516e-01]\n",
            " [9.51772153e-01]\n",
            " [2.35492527e-01]\n",
            " [2.82975147e-03]\n",
            " [1.97985210e-05]\n",
            " [1.51263577e-13]\n",
            " [4.46786871e-05]\n",
            " [9.99983013e-01]\n",
            " [8.64812434e-02]\n",
            " [9.99838650e-01]\n",
            " [4.85360295e-01]\n",
            " [9.72047403e-08]\n",
            " [9.99983907e-01]\n",
            " [2.94981747e-11]\n",
            " [9.99930978e-01]\n",
            " [5.02549717e-03]\n",
            " [1.00000000e+00]\n",
            " [1.39675800e-08]\n",
            " [1.00000000e+00]\n",
            " [1.00000000e+00]\n",
            " [1.46546100e-07]\n",
            " [2.58795589e-01]\n",
            " [8.69051591e-02]\n",
            " [8.15021873e-01]\n",
            " [9.99933779e-01]\n",
            " [9.99799669e-01]\n",
            " [5.22381811e-07]\n",
            " [9.99978244e-01]\n",
            " [5.21383881e-05]\n",
            " [9.99999881e-01]\n",
            " [4.17163633e-02]\n",
            " [7.40853912e-09]\n",
            " [8.18938792e-01]\n",
            " [9.98592317e-01]\n",
            " [9.82426345e-01]\n",
            " [1.00000000e+00]\n",
            " [7.34442729e-04]\n",
            " [9.95297015e-01]\n",
            " [4.73581292e-02]\n",
            " [9.91313338e-01]\n",
            " [4.55730488e-11]\n",
            " [9.57052708e-01]\n",
            " [9.99984860e-01]\n",
            " [9.99954820e-01]\n",
            " [4.93112157e-06]\n",
            " [5.25761587e-11]\n",
            " [4.11104441e-01]\n",
            " [9.99279678e-01]\n",
            " [9.96456146e-01]\n",
            " [6.59589231e-01]\n",
            " [9.77037325e-06]\n",
            " [2.45551616e-01]\n",
            " [8.97984031e-12]\n",
            " [6.39648736e-02]\n",
            " [8.02003965e-03]\n",
            " [9.99999881e-01]\n",
            " [6.06579930e-02]\n",
            " [3.22347375e-08]\n",
            " [2.88798004e-01]\n",
            " [2.11212009e-01]\n",
            " [9.64715600e-01]\n",
            " [1.46433653e-03]\n",
            " [6.11367285e-01]\n",
            " [8.39125831e-03]\n",
            " [4.67383299e-10]\n",
            " [9.98619437e-01]\n",
            " [1.45566635e-04]\n",
            " [6.12598557e-12]\n",
            " [9.99999523e-01]\n",
            " [2.08336532e-01]\n",
            " [9.66288626e-01]\n",
            " [4.47621150e-12]]\n"
          ]
        }
      ]
    },
    {
      "cell_type": "code",
      "source": [
        "len(predictions)"
      ],
      "metadata": {
        "colab": {
          "base_uri": "https://localhost:8080/"
        },
        "id": "Ra5BCx1zz4jb",
        "outputId": "f464058b-dc18-45fb-9956-e8742f1ec8f3"
      },
      "execution_count": 18,
      "outputs": [
        {
          "output_type": "execute_result",
          "data": {
            "text/plain": [
              "366"
            ]
          },
          "metadata": {},
          "execution_count": 18
        }
      ]
    },
    {
      "cell_type": "code",
      "source": [
        "from sklearn.metrics import confusion_matrix, classification_report\n",
        "\n",
        "# Assuming you have ground truth labels (true_labels) and predicted labels (predictions)\n",
        "true_labels = test_data.classes\n",
        "predicted_labels = (predictions > 0.5).astype(int)  # Adjust the threshold as needed\n",
        "\n",
        "# Calculate confusion matrix\n",
        "cm = confusion_matrix(true_labels, predicted_labels)\n",
        "\n",
        "# Print confusion matrix\n",
        "print(\"Confusion Matrix:\")\n",
        "print(cm)\n",
        "\n",
        "# Print classification report\n",
        "print(\"Classification Report:\")\n",
        "print(classification_report(true_labels, predicted_labels))\n",
        "\n",
        "\n",
        "\n"
      ],
      "metadata": {
        "colab": {
          "base_uri": "https://localhost:8080/"
        },
        "id": "_Dz0UJrg0IHE",
        "outputId": "e2c5cc1d-ea52-4809-efcd-66e58c201d11"
      },
      "execution_count": 23,
      "outputs": [
        {
          "output_type": "stream",
          "name": "stdout",
          "text": [
            "Confusion Matrix:\n",
            "[[ 79 104]\n",
            " [ 99  84]]\n",
            "Classification Report:\n",
            "              precision    recall  f1-score   support\n",
            "\n",
            "           0       0.44      0.43      0.44       183\n",
            "           1       0.45      0.46      0.45       183\n",
            "\n",
            "    accuracy                           0.45       366\n",
            "   macro avg       0.45      0.45      0.45       366\n",
            "weighted avg       0.45      0.45      0.45       366\n",
            "\n"
          ]
        }
      ]
    },
    {
      "cell_type": "code",
      "source": [
        "# __CNN Pre-trained Model__"
      ],
      "metadata": {
        "id": "EtGJO28kiRQo"
      },
      "execution_count": 1,
      "outputs": []
    },
    {
      "cell_type": "code",
      "execution_count": 13,
      "metadata": {
        "id": "BizjmI4ULpZN",
        "colab": {
          "base_uri": "https://localhost:8080/"
        },
        "outputId": "3ae618d8-4dd4-4980-da9e-2e9698728bf3"
      },
      "outputs": [
        {
          "output_type": "stream",
          "name": "stdout",
          "text": [
            "Mounted at /content/drive\n"
          ]
        }
      ],
      "source": [
        "#My dataset is available in googledrive; so I am accessing my drive from colab\n",
        "from google.colab import drive\n",
        "drive.mount('/content/drive', force_remount=True)\n",
        "#Once this is executed, you will see your drive appearing on the left hand side"
      ]
    },
    {
      "cell_type": "code",
      "source": [
        "# Define paths to the dataset\n",
        "train_dir = '/content/drive/MyDrive/train'  # Update with your actual path\n",
        "test_dir = '/content/drive/MyDrive/test'    # Update with your actual path"
      ],
      "metadata": {
        "id": "jW-kT1q2S8e7"
      },
      "execution_count": 24,
      "outputs": []
    },
    {
      "cell_type": "code",
      "source": [
        "import os\n",
        "print(len(os.listdir('/content/drive/MyDrive/train/pizza')))\n",
        "print(len(os.listdir('/content/drive/MyDrive/train/not_pizza')))\n",
        "print(len(os.listdir('/content/drive/MyDrive/test/pizza')))\n",
        "print(len(os.listdir('/content/drive/MyDrive/test/not_pizza')))"
      ],
      "metadata": {
        "colab": {
          "base_uri": "https://localhost:8080/"
        },
        "id": "Sv28vhrRTHDP",
        "outputId": "10248e9e-1c56-4241-dfd8-e3b1d650414f"
      },
      "execution_count": 25,
      "outputs": [
        {
          "output_type": "stream",
          "name": "stdout",
          "text": [
            "800\n",
            "800\n",
            "183\n",
            "183\n"
          ]
        }
      ]
    },
    {
      "cell_type": "code",
      "source": [
        "import tensorflow as tf\n",
        "from tensorflow.keras.preprocessing.image import ImageDataGenerator\n",
        "\n",
        "# Create ImageDataGenerator for training set\n",
        "train_datagen = ImageDataGenerator(\n",
        "    rescale=1./255,\n",
        "    validation_split=0.2  # Split 20% of the images for validation\n",
        ")\n",
        "\n",
        "# Load and prepare training data\n",
        "train_data = train_datagen.flow_from_directory(\n",
        "    train_dir,\n",
        "    target_size=(256,256),\n",
        "    batch_size=32,\n",
        "    class_mode='binary',  # 'binary' for binary classification (pizza vs. not_pizza)\n",
        "    subset='training'  # Specify 'training' for the training set\n",
        ")\n",
        "\n",
        "# Create ImageDataGenerator for validation set\n",
        "validation_datagen = ImageDataGenerator(\n",
        "    rescale=1./255,\n",
        "    validation_split=0.2  # Note: Using the same validation split as in the training set\n",
        ")\n",
        "\n",
        "# Load and prepare validation data\n",
        "validation_data = validation_datagen.flow_from_directory(\n",
        "    train_dir,\n",
        "    target_size=(256,256),\n",
        "    batch_size=32,\n",
        "    class_mode='binary',\n",
        "    subset='validation'  # Specify 'validation' for the validation set\n",
        ")"
      ],
      "metadata": {
        "colab": {
          "base_uri": "https://localhost:8080/"
        },
        "id": "yFW-y7BkTlXj",
        "outputId": "ed7bb221-88bb-4e9c-8021-a58e7b244770"
      },
      "execution_count": 26,
      "outputs": [
        {
          "output_type": "stream",
          "name": "stdout",
          "text": [
            "Found 1280 images belonging to 2 classes.\n",
            "Found 320 images belonging to 2 classes.\n"
          ]
        }
      ]
    },
    {
      "cell_type": "code",
      "source": [
        "from tensorflow import keras\n",
        "from keras import Sequential\n",
        "from keras.layers import Dense,Conv2D,MaxPooling2D,Flatten\n",
        "\n",
        "resnet_model = Sequential()    #ResNet50 is a pre-trained model\n",
        "pretrained_model = tf.keras.applications.ResNet50(include_top = False, #because i have my own image of a diff dimension\n",
        "                                                input_shape = (256,256,3),\n",
        "                                                pooling = 'max', classes = 2,\n",
        "                                                weights = 'imagenet')\n",
        "for layer in pretrained_model.layers:\n",
        "    layer.trainable = False  #all layers in the Resnet50 is not trainable; keep those weights; I am going to add my own i/p and other layers\n",
        "\n",
        "resnet_model.add(pretrained_model)\n",
        "resnet_model.add(Flatten())\n",
        "resnet_model.add(Dense(512, activation = 'relu'))\n",
        "resnet_model.add(Dense(1, activation = 'sigmoid'))"
      ],
      "metadata": {
        "id": "xi2ugwkoTtsd"
      },
      "execution_count": 28,
      "outputs": []
    },
    {
      "cell_type": "code",
      "source": [
        "from keras.optimizers import Adam\n",
        "resnet_model.compile(optimizer=Adam(learning_rate=0.001),loss='binary_crossentropy',metrics=['accuracy']) #binary_crossentropy - binary classification"
      ],
      "metadata": {
        "id": "kmZQuTTKUiJg"
      },
      "execution_count": 29,
      "outputs": []
    },
    {
      "cell_type": "code",
      "source": [
        "history = resnet_model.fit(train_data, epochs=3, validation_data=validation_data)"
      ],
      "metadata": {
        "colab": {
          "base_uri": "https://localhost:8080/"
        },
        "id": "v4vzEx0KVT_z",
        "outputId": "44b41afb-c45c-40f0-9ba4-babc7fc0a0e4"
      },
      "execution_count": 30,
      "outputs": [
        {
          "output_type": "stream",
          "name": "stdout",
          "text": [
            "Epoch 1/3\n",
            "40/40 [==============================] - 441s 11s/step - loss: 2.4248 - accuracy: 0.5102 - val_loss: 0.8653 - val_accuracy: 0.5250\n",
            "Epoch 2/3\n",
            "40/40 [==============================] - 492s 12s/step - loss: 0.7223 - accuracy: 0.5922 - val_loss: 0.8836 - val_accuracy: 0.5094\n",
            "Epoch 3/3\n",
            "40/40 [==============================] - 437s 11s/step - loss: 0.5864 - accuracy: 0.6727 - val_loss: 0.6806 - val_accuracy: 0.5938\n"
          ]
        }
      ]
    },
    {
      "cell_type": "code",
      "source": [
        "resnet_model.summary()"
      ],
      "metadata": {
        "colab": {
          "base_uri": "https://localhost:8080/"
        },
        "id": "1ShyvtgOUdBm",
        "outputId": "29ecff95-d9ff-44e1-f6f8-217887bb6715"
      },
      "execution_count": 31,
      "outputs": [
        {
          "output_type": "stream",
          "name": "stdout",
          "text": [
            "Model: \"sequential_2\"\n",
            "_________________________________________________________________\n",
            " Layer (type)                Output Shape              Param #   \n",
            "=================================================================\n",
            " resnet50 (Functional)       (None, 2048)              23587712  \n",
            "                                                                 \n",
            " flatten_2 (Flatten)         (None, 2048)              0         \n",
            "                                                                 \n",
            " dense_5 (Dense)             (None, 512)               1049088   \n",
            "                                                                 \n",
            " dense_6 (Dense)             (None, 1)                 513       \n",
            "                                                                 \n",
            "=================================================================\n",
            "Total params: 24637313 (93.98 MB)\n",
            "Trainable params: 1049601 (4.00 MB)\n",
            "Non-trainable params: 23587712 (89.98 MB)\n",
            "_________________________________________________________________\n"
          ]
        }
      ]
    },
    {
      "cell_type": "code",
      "source": [
        "import matplotlib.pyplot as plt\n",
        "\n",
        "plt.plot(history.history['accuracy'],color='red',label='train')\n",
        "plt.plot(history.history['val_accuracy'],color='blue',label='validation')\n",
        "plt.legend()\n",
        "plt.show()"
      ],
      "metadata": {
        "colab": {
          "base_uri": "https://localhost:8080/",
          "height": 434
        },
        "id": "mDUABqyKbF7N",
        "outputId": "b70173b3-73df-4dd8-afd8-c6e5a4e506c3"
      },
      "execution_count": 32,
      "outputs": [
        {
          "output_type": "display_data",
          "data": {
            "text/plain": [
              "<Figure size 640x480 with 1 Axes>"
            ],
            "image/png": "[encoded data removed]"
          },
          "metadata": {}
        }
      ]
    },
    {
      "cell_type": "code",
      "source": [
        "plt.plot(history.history['loss'],color='red',label='train')\n",
        "plt.plot(history.history['val_loss'],color='blue',label='validation')\n",
        "plt.legend()\n",
        "plt.show()"
      ],
      "metadata": {
        "colab": {
          "base_uri": "https://localhost:8080/",
          "height": 432
        },
        "id": "0Ivb3_5jbMXF",
        "outputId": "9413dc48-65ad-4341-9785-e8b121ef1f0e"
      },
      "execution_count": 33,
      "outputs": [
        {
          "output_type": "display_data",
          "data": {
            "text/plain": [
              "<Figure size 640x480 with 1 Axes>"
            ],
            "image/png": "[encoded data removed]"
          },
          "metadata": {}
        }
      ]
    },
    {
      "cell_type": "code",
      "source": [
        "test_datagen = ImageDataGenerator(rescale=1./255)\n",
        "test_data = test_datagen.flow_from_directory(\n",
        "    test_dir,\n",
        "    target_size=(256,256),\n",
        "    batch_size=32,\n",
        "    class_mode='binary'\n",
        ")"
      ],
      "metadata": {
        "colab": {
          "base_uri": "https://localhost:8080/"
        },
        "id": "yPBhQ7LLbT7B",
        "outputId": "8210f04e-3700-430d-c139-59d24e3bd70a"
      },
      "execution_count": 34,
      "outputs": [
        {
          "output_type": "stream",
          "name": "stdout",
          "text": [
            "Found 366 images belonging to 2 classes.\n"
          ]
        }
      ]
    },
    {
      "cell_type": "code",
      "source": [
        "#predict the test data\n",
        "predictions = resnet_model.predict(test_data)\n",
        "print(predictions)"
      ],
      "metadata": {
        "colab": {
          "base_uri": "https://localhost:8080/"
        },
        "id": "6xU47jucbfde",
        "outputId": "412b058c-3530-4fa6-8efb-17fd6899f7cf"
      },
      "execution_count": 35,
      "outputs": [
        {
          "output_type": "stream",
          "name": "stdout",
          "text": [
            "12/12 [==============================] - 104s 8s/step\n",
            "[[0.15506814]\n",
            " [0.45413858]\n",
            " [0.21555068]\n",
            " [0.8643445 ]\n",
            " [0.08145414]\n",
            " [0.21377085]\n",
            " [0.6709673 ]\n",
            " [0.09573422]\n",
            " [0.34365952]\n",
            " [0.20708768]\n",
            " [0.13697688]\n",
            " [0.13387494]\n",
            " [0.0948713 ]\n",
            " [0.3033474 ]\n",
            " [0.25018567]\n",
            " [0.06738309]\n",
            " [0.14350162]\n",
            " [0.13916774]\n",
            " [0.33616516]\n",
            " [0.05798066]\n",
            " [0.47644442]\n",
            " [0.1245399 ]\n",
            " [0.22970526]\n",
            " [0.44802442]\n",
            " [0.15888041]\n",
            " [0.22367315]\n",
            " [0.14799237]\n",
            " [0.06791902]\n",
            " [0.576139  ]\n",
            " [0.18835375]\n",
            " [0.38667157]\n",
            " [0.2256868 ]\n",
            " [0.2030198 ]\n",
            " [0.2625863 ]\n",
            " [0.3576705 ]\n",
            " [0.13042532]\n",
            " [0.16818766]\n",
            " [0.43386257]\n",
            " [0.6908044 ]\n",
            " [0.16838287]\n",
            " [0.31774113]\n",
            " [0.43628746]\n",
            " [0.51397455]\n",
            " [0.39835587]\n",
            " [0.35881907]\n",
            " [0.48346484]\n",
            " [0.21772656]\n",
            " [0.20198785]\n",
            " [0.4321802 ]\n",
            " [0.16005   ]\n",
            " [0.10780641]\n",
            " [0.2548998 ]\n",
            " [0.29698655]\n",
            " [0.3559291 ]\n",
            " [0.12055368]\n",
            " [0.33798468]\n",
            " [0.08488078]\n",
            " [0.37714255]\n",
            " [0.08568302]\n",
            " [0.08325037]\n",
            " [0.12779777]\n",
            " [0.1673698 ]\n",
            " [0.19305587]\n",
            " [0.22339988]\n",
            " [0.25859925]\n",
            " [0.13263339]\n",
            " [0.5438689 ]\n",
            " [0.2396614 ]\n",
            " [0.4016859 ]\n",
            " [0.21064618]\n",
            " [0.29796734]\n",
            " [0.14366238]\n",
            " [0.17378832]\n",
            " [0.2855788 ]\n",
            " [0.10981595]\n",
            " [0.05464555]\n",
            " [0.17758475]\n",
            " [0.19383164]\n",
            " [0.29611903]\n",
            " [0.45663348]\n",
            " [0.2181338 ]\n",
            " [0.22114053]\n",
            " [0.5076069 ]\n",
            " [0.13605036]\n",
            " [0.1903978 ]\n",
            " [0.01918869]\n",
            " [0.40687934]\n",
            " [0.22226526]\n",
            " [0.12194608]\n",
            " [0.2732346 ]\n",
            " [0.22262621]\n",
            " [0.39613476]\n",
            " [0.42421967]\n",
            " [0.21250756]\n",
            " [0.33886534]\n",
            " [0.2135953 ]\n",
            " [0.25464308]\n",
            " [0.20192055]\n",
            " [0.22795007]\n",
            " [0.17226157]\n",
            " [0.5057375 ]\n",
            " [0.1685243 ]\n",
            " [0.1893851 ]\n",
            " [0.16307876]\n",
            " [0.3568875 ]\n",
            " [0.34752288]\n",
            " [0.3360957 ]\n",
            " [0.03992762]\n",
            " [0.41565365]\n",
            " [0.1925235 ]\n",
            " [0.15196534]\n",
            " [0.20682085]\n",
            " [0.4866065 ]\n",
            " [0.38545606]\n",
            " [0.42912266]\n",
            " [0.53070265]\n",
            " [0.75024366]\n",
            " [0.28639847]\n",
            " [0.59581167]\n",
            " [0.25453416]\n",
            " [0.07745998]\n",
            " [0.19848415]\n",
            " [0.2509877 ]\n",
            " [0.1389427 ]\n",
            " [0.15763606]\n",
            " [0.23051664]\n",
            " [0.24861918]\n",
            " [0.27693427]\n",
            " [0.3901388 ]\n",
            " [0.44200268]\n",
            " [0.15062876]\n",
            " [0.5961717 ]\n",
            " [0.10772415]\n",
            " [0.17143324]\n",
            " [0.11219244]\n",
            " [0.20255147]\n",
            " [0.8715213 ]\n",
            " [0.12946542]\n",
            " [0.22546603]\n",
            " [0.06699052]\n",
            " [0.21759577]\n",
            " [0.44944   ]\n",
            " [0.20785367]\n",
            " [0.31117636]\n",
            " [0.03639611]\n",
            " [0.39822373]\n",
            " [0.04677412]\n",
            " [0.22494794]\n",
            " [0.22397321]\n",
            " [0.444993  ]\n",
            " [0.76422673]\n",
            " [0.1455942 ]\n",
            " [0.25412402]\n",
            " [0.4517256 ]\n",
            " [0.26734027]\n",
            " [0.27253476]\n",
            " [0.2810842 ]\n",
            " [0.14610213]\n",
            " [0.67606574]\n",
            " [0.18723486]\n",
            " [0.03904077]\n",
            " [0.2669858 ]\n",
            " [0.1895402 ]\n",
            " [0.02400915]\n",
            " [0.16346657]\n",
            " [0.22495224]\n",
            " [0.37335587]\n",
            " [0.7814643 ]\n",
            " [0.14836021]\n",
            " [0.22029732]\n",
            " [0.12428306]\n",
            " [0.32355943]\n",
            " [0.12695463]\n",
            " [0.27733237]\n",
            " [0.23976754]\n",
            " [0.2996557 ]\n",
            " [0.33078778]\n",
            " [0.4282327 ]\n",
            " [0.1284711 ]\n",
            " [0.23465613]\n",
            " [0.10526803]\n",
            " [0.43302536]\n",
            " [0.04111831]\n",
            " [0.6508128 ]\n",
            " [0.61354494]\n",
            " [0.05653767]\n",
            " [0.17353909]\n",
            " [0.16666612]\n",
            " [0.16113892]\n",
            " [0.40261555]\n",
            " [0.14530975]\n",
            " [0.5229017 ]\n",
            " [0.42837614]\n",
            " [0.18867211]\n",
            " [0.42740148]\n",
            " [0.09965353]\n",
            " [0.22123514]\n",
            " [0.3241857 ]\n",
            " [0.09529335]\n",
            " [0.2725717 ]\n",
            " [0.41509762]\n",
            " [0.42069262]\n",
            " [0.30377546]\n",
            " [0.30149528]\n",
            " [0.02172226]\n",
            " [0.15075712]\n",
            " [0.10617943]\n",
            " [0.27380884]\n",
            " [0.43481964]\n",
            " [0.6348699 ]\n",
            " [0.30024195]\n",
            " [0.09780646]\n",
            " [0.10401204]\n",
            " [0.2818687 ]\n",
            " [0.29587296]\n",
            " [0.732135  ]\n",
            " [0.28863615]\n",
            " [0.22341178]\n",
            " [0.35783172]\n",
            " [0.18064763]\n",
            " [0.22865486]\n",
            " [0.2667945 ]\n",
            " [0.489771  ]\n",
            " [0.43525118]\n",
            " [0.49686274]\n",
            " [0.38318747]\n",
            " [0.481456  ]\n",
            " [0.38087884]\n",
            " [0.26113296]\n",
            " [0.4311362 ]\n",
            " [0.293186  ]\n",
            " [0.4151725 ]\n",
            " [0.2653331 ]\n",
            " [0.625054  ]\n",
            " [0.2868946 ]\n",
            " [0.30529445]\n",
            " [0.08379759]\n",
            " [0.44307178]\n",
            " [0.45281222]\n",
            " [0.14975014]\n",
            " [0.72066206]\n",
            " [0.11122143]\n",
            " [0.63951325]\n",
            " [0.35543796]\n",
            " [0.27636302]\n",
            " [0.5504438 ]\n",
            " [0.30450928]\n",
            " [0.5699682 ]\n",
            " [0.30172446]\n",
            " [0.21270828]\n",
            " [0.34449443]\n",
            " [0.23959753]\n",
            " [0.44053984]\n",
            " [0.44215223]\n",
            " [0.22873145]\n",
            " [0.23839317]\n",
            " [0.14406572]\n",
            " [0.04074409]\n",
            " [0.17282932]\n",
            " [0.332138  ]\n",
            " [0.10790172]\n",
            " [0.30962247]\n",
            " [0.07111478]\n",
            " [0.29212415]\n",
            " [0.49171722]\n",
            " [0.4738973 ]\n",
            " [0.44911337]\n",
            " [0.22250734]\n",
            " [0.74557036]\n",
            " [0.21264724]\n",
            " [0.14278483]\n",
            " [0.25342232]\n",
            " [0.15605181]\n",
            " [0.30564898]\n",
            " [0.12795538]\n",
            " [0.18205546]\n",
            " [0.565641  ]\n",
            " [0.28482425]\n",
            " [0.19868349]\n",
            " [0.0688469 ]\n",
            " [0.30660444]\n",
            " [0.03702617]\n",
            " [0.42278606]\n",
            " [0.7394708 ]\n",
            " [0.19303766]\n",
            " [0.18318231]\n",
            " [0.14074008]\n",
            " [0.14019117]\n",
            " [0.14477684]\n",
            " [0.50976866]\n",
            " [0.5329925 ]\n",
            " [0.25976822]\n",
            " [0.2990115 ]\n",
            " [0.27529103]\n",
            " [0.26119462]\n",
            " [0.18980758]\n",
            " [0.35898203]\n",
            " [0.5556265 ]\n",
            " [0.5567725 ]\n",
            " [0.31020284]\n",
            " [0.22171186]\n",
            " [0.20649965]\n",
            " [0.27269673]\n",
            " [0.13664334]\n",
            " [0.28234464]\n",
            " [0.19976068]\n",
            " [0.44689637]\n",
            " [0.39563748]\n",
            " [0.66533536]\n",
            " [0.2387077 ]\n",
            " [0.21352755]\n",
            " [0.31659684]\n",
            " [0.25011638]\n",
            " [0.12420762]\n",
            " [0.49571633]\n",
            " [0.7448208 ]\n",
            " [0.15540554]\n",
            " [0.14969978]\n",
            " [0.3018741 ]\n",
            " [0.17724063]\n",
            " [0.5584695 ]\n",
            " [0.20521265]\n",
            " [0.28146467]\n",
            " [0.08949099]\n",
            " [0.06400701]\n",
            " [0.29901853]\n",
            " [0.5742463 ]\n",
            " [0.65783334]\n",
            " [0.329298  ]\n",
            " [0.28429884]\n",
            " [0.55176383]\n",
            " [0.676771  ]\n",
            " [0.21465907]\n",
            " [0.25456417]\n",
            " [0.03860626]\n",
            " [0.181131  ]\n",
            " [0.21040672]\n",
            " [0.38538042]\n",
            " [0.2554028 ]\n",
            " [0.37997994]\n",
            " [0.3738143 ]\n",
            " [0.10774719]\n",
            " [0.39545235]\n",
            " [0.26940054]\n",
            " [0.20123927]\n",
            " [0.22728255]\n",
            " [0.6557055 ]\n",
            " [0.21707857]\n",
            " [0.18799889]\n",
            " [0.4285886 ]\n",
            " [0.25204623]\n",
            " [0.39789915]\n",
            " [0.304882  ]\n",
            " [0.27758378]\n",
            " [0.08486517]\n",
            " [0.12077413]\n",
            " [0.20663373]\n",
            " [0.30827436]\n",
            " [0.33222944]\n",
            " [0.2760738 ]\n",
            " [0.09481783]\n",
            " [0.27926075]\n",
            " [0.25401762]\n",
            " [0.2173495 ]\n",
            " [0.5342426 ]\n",
            " [0.10410114]]\n"
          ]
        }
      ]
    },
    {
      "cell_type": "code",
      "source": [
        "len(predictions)"
      ],
      "metadata": {
        "colab": {
          "base_uri": "https://localhost:8080/"
        },
        "id": "QHb3pjIMcP0Y",
        "outputId": "0931ab55-dffe-417f-c703-6e0c66928b75"
      },
      "execution_count": 36,
      "outputs": [
        {
          "output_type": "execute_result",
          "data": {
            "text/plain": [
              "366"
            ]
          },
          "metadata": {},
          "execution_count": 36
        }
      ]
    },
    {
      "cell_type": "code",
      "source": [
        "from sklearn.metrics import confusion_matrix, classification_report\n",
        "\n",
        "# Assuming you have ground truth labels (true_labels) and predicted labels (predictions)\n",
        "true_labels = test_data.classes\n",
        "predicted_labels = (predictions > 0.5).astype(int)  # Adjust the threshold as needed\n",
        "\n",
        "# Calculate confusion matrix\n",
        "cm = confusion_matrix(true_labels, predicted_labels)\n",
        "\n",
        "# Print confusion matrix\n",
        "print(\"Confusion Matrix:\")\n",
        "print(cm)\n",
        "\n",
        "# Print classification report\n",
        "print(\"Classification Report:\")\n",
        "print(classification_report(true_labels, predicted_labels))"
      ],
      "metadata": {
        "colab": {
          "base_uri": "https://localhost:8080/"
        },
        "id": "4UVlsAcGcTMk",
        "outputId": "7411dbc8-3306-48ff-e38b-5bcceef1eee5"
      },
      "execution_count": 37,
      "outputs": [
        {
          "output_type": "stream",
          "name": "stdout",
          "text": [
            "Confusion Matrix:\n",
            "[[167  16]\n",
            " [157  26]]\n",
            "Classification Report:\n",
            "              precision    recall  f1-score   support\n",
            "\n",
            "           0       0.52      0.91      0.66       183\n",
            "           1       0.62      0.14      0.23       183\n",
            "\n",
            "    accuracy                           0.53       366\n",
            "   macro avg       0.57      0.53      0.44       366\n",
            "weighted avg       0.57      0.53      0.44       366\n",
            "\n"
          ]
        }
      ]
    }
  ]
}